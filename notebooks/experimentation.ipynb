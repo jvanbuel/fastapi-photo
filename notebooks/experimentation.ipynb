{
 "cells": [
  {
   "cell_type": "code",
   "execution_count": null,
   "metadata": {},
   "outputs": [],
   "source": [
    "from PIL import Image\n",
    "import sys\n",
    "from fastapi_photo.utils import resize_image\n",
    "\n",
    "MAX_SIZE = 100e3\n",
    "\n",
    "photo = Image.open('test.jpg')\n",
    "\n",
    "PHOTO_SIZE = sys.getsizeof(photo.tobytes())\n",
    "(x, y) = photo.size\n",
    "\n",
    "image = resize_image(photo, PHOTO_SIZE, MAX_SIZE)\n",
    "\n",
    "print(PHOTO_SIZE)\n",
    "print(sys.getsizeof(image.tobytes()))"
   ]
  },
  {
   "cell_type": "code",
   "execution_count": null,
   "metadata": {},
   "outputs": [],
   "source": [
    "photo.format"
   ]
  },
  {
   "cell_type": "code",
   "execution_count": null,
   "metadata": {},
   "outputs": [],
   "source": [
    "import io\n",
    "\n",
    "image_bytes = io.BytesIO()\n",
    "image.save(image_bytes, format='jpg')"
   ]
  }
 ],
 "metadata": {
  "kernelspec": {
   "display_name": ".venv",
   "language": "python",
   "name": "python3"
  },
  "language_info": {
   "codemirror_mode": {
    "name": "ipython",
    "version": 3
   },
   "file_extension": ".py",
   "mimetype": "text/x-python",
   "name": "python",
   "nbconvert_exporter": "python",
   "pygments_lexer": "ipython3",
   "version": "3.10.9"
  }
 },
 "nbformat": 4,
 "nbformat_minor": 2
}
